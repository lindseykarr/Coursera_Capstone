{
    "cells": [
        {
            "metadata": {
                "collapsed": true
            },
            "cell_type": "markdown",
            "source": "## Final Project: A Bakery in Portland, OR"
        },
        {
            "metadata": {},
            "cell_type": "markdown",
            "source": "### Question 1: Introduction/Business Problem"
        },
        {
            "metadata": {},
            "cell_type": "raw",
            "source": ""
        },
        {
            "metadata": {},
            "cell_type": "markdown",
            "source": "#### In this notebook, I will explore neighborhoods in Portland, Oregon in order to find a good location for a bakery/coffee shop. My target audience is people who might want to start a local business such as bakers or coffee shop owners. The location of the bakery is important to the audience because they want to place their shop in a neighborhood that does not have similar businesses, so there will be less competition. This audience also wants their bakery to be a neighborhood bakery where residents can easily pick up fresh bread and pastries, or grab coffee and walk at nearby parks. Therefore, the audeince wants the location to be residential, in a neighborhood with a few parks."
        },
        {
            "metadata": {},
            "cell_type": "markdown",
            "source": "### Question 2: Data"
        },
        {
            "metadata": {},
            "cell_type": "markdown",
            "source": "#### I will use Foursquare data to explore the nighborhoods in Portland, OR. I will get lists of the 5 most common venues in each neighborhood, and look for neigborhoods where bakeries are not in that top 5. From that list I will choose neighborhoods where the top 5 venues indicate a more residential neighborhood, like parks, schools, playgrounds, and maybe some restauraunts. Also the top 5 venues should not include places like airports, night clubs, shopping malls, or distribution centers, as the audience wants a quiet neighborhood bakery."
        },
        {
            "metadata": {},
            "cell_type": "code",
            "source": "",
            "execution_count": null,
            "outputs": []
        }
    ],
    "metadata": {
        "kernelspec": {
            "name": "python3",
            "display_name": "Python 3.7",
            "language": "python"
        },
        "language_info": {
            "name": "python",
            "version": "3.7.10",
            "mimetype": "text/x-python",
            "codemirror_mode": {
                "name": "ipython",
                "version": 3
            },
            "pygments_lexer": "ipython3",
            "nbconvert_exporter": "python",
            "file_extension": ".py"
        }
    },
    "nbformat": 4,
    "nbformat_minor": 1
}